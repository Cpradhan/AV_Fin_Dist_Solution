{
 "cells": [
  {
   "cell_type": "markdown",
   "metadata": {},
   "source": [
    "# Financial Distribution Company - Machine Learning Solution"
   ]
  },
  {
   "cell_type": "markdown",
   "metadata": {},
   "source": [
    "### Build a classifier to predict if a financial agent will get business\n",
    "\n",
    "   - Defining the Problem statement\n",
    "   - Collecting the data\n",
    "   - Exploratory data analysis\n",
    "   - Feature Engineering\n",
    "   - Modelling\n",
    "   - Predicting\n",
    "   - Evaluation\n",
    "   - Prepare Submission File"
   ]
  },
  {
   "cell_type": "markdown",
   "metadata": {},
   "source": [
    "### Defining the Problem statement\n",
    "Your client is a Financial Distribution company. Over the last 10 years, they have created an offline distribution channel across country. They sell Financial products to consumers by hiring agents in their network. These agents are freelancers and get commission when they make a product sale.\n",
    "\n",
    "**Overview of your client On-boarding process**\n",
    "The Managers at your client are primarily responsible for recruiting agents. Once a manager has identified a potential applicant, the would explain the business opportunity to the agent. Once the agent provides the consent, an application is made to your client to become an agent. This date is known as application_receipt_date. In the next 3 months, this potential agent has to undergo a 7 days training at the your client's branch (about Sales processes and various products) and clear a subsequent examination in order to become an agent.\n",
    "\n",
    "**The problem - Who are the best agents?**\n",
    "As is obvious in the above process, there is a significant investment which your cleint makes in identifying, training and recruiting these agents. However, there are a set of agents who do not bring in the expected resultant business. Your client is looking for help from data scientists like you to help them provide insigths using their past recruitment data. They want to predict the target variable for each potential agent, which would help them identify the right agents to hire.\n",
    "\n",
    "**Key Points** : \n",
    "- It has data for period Apr'2007 to Jan'2009 (For Jan'09 only 99 records for 01-Jan-09)\n",
    "- The training data for period Apr'2007 to 01-Jul-2008\n",
    "- Public leaderboard is based on First 2 months of the test dataset (02-Jul-2008 and 01-Sep-2008) and rest of test dataset is used for Private leaderboard\n",
    "- Evaluation Metric is ROC - AUC. For more info, check here\n",
    "- You are expected to upload the solution in the format of \"sample_submission.csv\".\n",
    "\n",
    "**Data Definitions**\n",
    "1. ID - Unique Application ID \\n\n",
    "2. Office_PIN - PINCODE of Your client's Offices\n",
    "3. Application_Receipt_Date - Date of Application\n",
    "4. Applicant_City_PIN - PINCODE of Applicant Address\n",
    "5. Applicant_Gender - Applicant's Gender\n",
    "6. Applicant_BirthDate - Applicant's Birthdate\n",
    "7. Applicant_Marital_Status - Applicant's Marital Status\n",
    "8. Applicant_Occupation - Applicant's Occupation\n",
    "9. Applicant_Qualification - Applicant's Educational Qualification\n",
    "10. Manager_DOJ - Manager's Date of Joining\n",
    "11. Manager_Joining_Designation - Manager's Joining Designation\n",
    "12. Manager_Current_Designation - Manager's Designation at the time of application sourcing\n",
    "13. Manager_Grade - Manager's Grade\n",
    "14. Manager_Status - Current Employment Status (Probation / Confirmation)\n",
    "15. Manager_Gender - Manager's Gender\n",
    "16. Manager_DoB - Manager's Birthdate\n",
    "17. Manager_Num_Application - No. of Applications sourced in last 3 months by the Manager\n",
    "18. Manager_Num_Coded - No. of agents recruited by the manager in last 3 months\n",
    "19. Manager_Business - Amount of business sourced by the manager in last 3 months\n",
    "20. Manager_Num_Products - Number of products sold by the manager in last 3 months\n",
    "21. Manager_Business2 - Amount of business sourced by the manager in last 3 months excluding business from their Category A advisor\n",
    "22. Manager_Num_Products2 - Number of products sold by the manager in last 3 months excluding business from their Category A advisor\n",
    "23. Business_Sourced(Target) - Business sourced by applicant within 3 months [1/0] of recruitment"
   ]
  },
  {
   "cell_type": "markdown",
   "metadata": {},
   "source": [
    "### Load Libraries"
   ]
  },
  {
   "cell_type": "code",
   "execution_count": 92,
   "metadata": {},
   "outputs": [],
   "source": [
    "import pandas as pd\n",
    "import numpy as np\n",
    "import os.path\n",
    "from os import path\n",
    "from sklearn import model_selection\n",
    "from sklearn import ensemble\n",
    "from sklearn import preprocessing\n",
    "from sklearn import metrics\n",
    "from sklearn.neighbors import KNeighborsClassifier\n",
    "from xgboost import XGBClassifier\n",
    "from catboost import CatBoostClassifier\n",
    "import joblib"
   ]
  },
  {
   "cell_type": "markdown",
   "metadata": {},
   "source": [
    "### Read Data"
   ]
  },
  {
   "cell_type": "code",
   "execution_count": 93,
   "metadata": {},
   "outputs": [],
   "source": [
    "dftrain = pd.read_csv(f\"Data/Train_pjb2QcD.csv\")\n",
    "dftest = pd.read_csv(f\"Data/Test_wyCirpO.csv\")"
   ]
  },
  {
   "cell_type": "markdown",
   "metadata": {},
   "source": [
    "*Let's get some intuition on the data*"
   ]
  },
  {
   "cell_type": "code",
   "execution_count": 94,
   "metadata": {},
   "outputs": [
    {
     "data": {
      "text/plain": [
       "(9527, 23)"
      ]
     },
     "execution_count": 94,
     "metadata": {},
     "output_type": "execute_result"
    }
   ],
   "source": [
    "dftrain.shape"
   ]
  },
  {
   "cell_type": "code",
   "execution_count": 95,
   "metadata": {},
   "outputs": [
    {
     "name": "stdout",
     "output_type": "stream",
     "text": [
      "<class 'pandas.core.frame.DataFrame'>\n",
      "RangeIndex: 9527 entries, 0 to 9526\n",
      "Data columns (total 23 columns):\n",
      "ID                             9527 non-null object\n",
      "Office_PIN                     9527 non-null int64\n",
      "Application_Receipt_Date       9527 non-null object\n",
      "Applicant_City_PIN             9430 non-null float64\n",
      "Applicant_Gender               9460 non-null object\n",
      "Applicant_BirthDate            9454 non-null object\n",
      "Applicant_Marital_Status       9454 non-null object\n",
      "Applicant_Occupation           8306 non-null object\n",
      "Applicant_Qualification        9441 non-null object\n",
      "Manager_DOJ                    8844 non-null object\n",
      "Manager_Joining_Designation    8844 non-null object\n",
      "Manager_Current_Designation    8844 non-null object\n",
      "Manager_Grade                  8844 non-null float64\n",
      "Manager_Status                 8844 non-null object\n",
      "Manager_Gender                 8844 non-null object\n",
      "Manager_DoB                    8844 non-null object\n",
      "Manager_Num_Application        8844 non-null float64\n",
      "Manager_Num_Coded              8844 non-null float64\n",
      "Manager_Business               8844 non-null float64\n",
      "Manager_Num_Products           8844 non-null float64\n",
      "Manager_Business2              8844 non-null float64\n",
      "Manager_Num_Products2          8844 non-null float64\n",
      "Business_Sourced               9527 non-null int64\n",
      "dtypes: float64(8), int64(2), object(13)\n",
      "memory usage: 1.7+ MB\n"
     ]
    }
   ],
   "source": [
    "dftrain.info()"
   ]
  },
  {
   "cell_type": "code",
   "execution_count": 96,
   "metadata": {},
   "outputs": [
    {
     "data": {
      "text/plain": [
       "ID                                0\n",
       "Office_PIN                        0\n",
       "Application_Receipt_Date          0\n",
       "Applicant_City_PIN               97\n",
       "Applicant_Gender                 67\n",
       "Applicant_BirthDate              73\n",
       "Applicant_Marital_Status         73\n",
       "Applicant_Occupation           1221\n",
       "Applicant_Qualification          86\n",
       "Manager_DOJ                     683\n",
       "Manager_Joining_Designation     683\n",
       "Manager_Current_Designation     683\n",
       "Manager_Grade                   683\n",
       "Manager_Status                  683\n",
       "Manager_Gender                  683\n",
       "Manager_DoB                     683\n",
       "Manager_Num_Application         683\n",
       "Manager_Num_Coded               683\n",
       "Manager_Business                683\n",
       "Manager_Num_Products            683\n",
       "Manager_Business2               683\n",
       "Manager_Num_Products2           683\n",
       "Business_Sourced                  0\n",
       "dtype: int64"
      ]
     },
     "execution_count": 96,
     "metadata": {},
     "output_type": "execute_result"
    }
   ],
   "source": [
    "dftrain.isnull().sum()"
   ]
  },
  {
   "cell_type": "code",
   "execution_count": 97,
   "metadata": {},
   "outputs": [
    {
     "data": {
      "text/plain": [
       "(5045, 22)"
      ]
     },
     "execution_count": 97,
     "metadata": {},
     "output_type": "execute_result"
    }
   ],
   "source": [
    "dftest.shape"
   ]
  },
  {
   "cell_type": "code",
   "execution_count": 98,
   "metadata": {},
   "outputs": [
    {
     "name": "stdout",
     "output_type": "stream",
     "text": [
      "<class 'pandas.core.frame.DataFrame'>\n",
      "RangeIndex: 5045 entries, 0 to 5044\n",
      "Data columns (total 22 columns):\n",
      "ID                             5045 non-null object\n",
      "Office_PIN                     5045 non-null int64\n",
      "Application_Receipt_Date       5045 non-null object\n",
      "Applicant_City_PIN             5011 non-null float64\n",
      "Applicant_Gender               5023 non-null object\n",
      "Applicant_BirthDate            5022 non-null object\n",
      "Applicant_Marital_Status       5015 non-null object\n",
      "Applicant_Occupation           4041 non-null object\n",
      "Applicant_Qualification        5001 non-null object\n",
      "Manager_DOJ                    4221 non-null object\n",
      "Manager_Joining_Designation    4221 non-null object\n",
      "Manager_Current_Designation    4221 non-null object\n",
      "Manager_Grade                  4221 non-null float64\n",
      "Manager_Status                 4221 non-null object\n",
      "Manager_Gender                 4221 non-null object\n",
      "Manager_DoB                    4221 non-null object\n",
      "Manager_Num_Application        4221 non-null float64\n",
      "Manager_Num_Coded              4221 non-null float64\n",
      "Manager_Business               4221 non-null float64\n",
      "Manager_Num_Products           4221 non-null float64\n",
      "Manager_Business2              4221 non-null float64\n",
      "Manager_Num_Products2          4221 non-null float64\n",
      "dtypes: float64(8), int64(1), object(13)\n",
      "memory usage: 867.2+ KB\n"
     ]
    }
   ],
   "source": [
    "dftest.info()"
   ]
  },
  {
   "cell_type": "code",
   "execution_count": 99,
   "metadata": {},
   "outputs": [
    {
     "data": {
      "text/html": [
       "<div>\n",
       "<style scoped>\n",
       "    .dataframe tbody tr th:only-of-type {\n",
       "        vertical-align: middle;\n",
       "    }\n",
       "\n",
       "    .dataframe tbody tr th {\n",
       "        vertical-align: top;\n",
       "    }\n",
       "\n",
       "    .dataframe thead th {\n",
       "        text-align: right;\n",
       "    }\n",
       "</style>\n",
       "<table border=\"1\" class=\"dataframe\">\n",
       "  <thead>\n",
       "    <tr style=\"text-align: right;\">\n",
       "      <th></th>\n",
       "      <th>Office_PIN</th>\n",
       "      <th>Applicant_City_PIN</th>\n",
       "      <th>Manager_Grade</th>\n",
       "      <th>Manager_Num_Application</th>\n",
       "      <th>Manager_Num_Coded</th>\n",
       "      <th>Manager_Business</th>\n",
       "      <th>Manager_Num_Products</th>\n",
       "      <th>Manager_Business2</th>\n",
       "      <th>Manager_Num_Products2</th>\n",
       "      <th>Business_Sourced</th>\n",
       "    </tr>\n",
       "  </thead>\n",
       "  <tbody>\n",
       "    <tr>\n",
       "      <td>count</td>\n",
       "      <td>9527.000000</td>\n",
       "      <td>9430.000000</td>\n",
       "      <td>8844.000000</td>\n",
       "      <td>8844.000000</td>\n",
       "      <td>8844.000000</td>\n",
       "      <td>8.844000e+03</td>\n",
       "      <td>8844.000000</td>\n",
       "      <td>8.844000e+03</td>\n",
       "      <td>8844.000000</td>\n",
       "      <td>9527.00000</td>\n",
       "    </tr>\n",
       "    <tr>\n",
       "      <td>mean</td>\n",
       "      <td>452894.372205</td>\n",
       "      <td>456784.547296</td>\n",
       "      <td>3.264134</td>\n",
       "      <td>1.939733</td>\n",
       "      <td>0.758933</td>\n",
       "      <td>1.843710e+05</td>\n",
       "      <td>7.152307</td>\n",
       "      <td>1.829263e+05</td>\n",
       "      <td>7.131275</td>\n",
       "      <td>0.34292</td>\n",
       "    </tr>\n",
       "    <tr>\n",
       "      <td>std</td>\n",
       "      <td>235690.618252</td>\n",
       "      <td>239291.081207</td>\n",
       "      <td>1.137449</td>\n",
       "      <td>2.150529</td>\n",
       "      <td>1.188644</td>\n",
       "      <td>2.747163e+05</td>\n",
       "      <td>8.439351</td>\n",
       "      <td>2.718021e+05</td>\n",
       "      <td>8.423597</td>\n",
       "      <td>0.47471</td>\n",
       "    </tr>\n",
       "    <tr>\n",
       "      <td>min</td>\n",
       "      <td>110005.000000</td>\n",
       "      <td>110001.000000</td>\n",
       "      <td>1.000000</td>\n",
       "      <td>0.000000</td>\n",
       "      <td>0.000000</td>\n",
       "      <td>-2.652890e+05</td>\n",
       "      <td>0.000000</td>\n",
       "      <td>-2.652890e+05</td>\n",
       "      <td>0.000000</td>\n",
       "      <td>0.00000</td>\n",
       "    </tr>\n",
       "    <tr>\n",
       "      <td>25%</td>\n",
       "      <td>226001.000000</td>\n",
       "      <td>226020.000000</td>\n",
       "      <td>2.000000</td>\n",
       "      <td>0.000000</td>\n",
       "      <td>0.000000</td>\n",
       "      <td>0.000000e+00</td>\n",
       "      <td>0.000000</td>\n",
       "      <td>0.000000e+00</td>\n",
       "      <td>0.000000</td>\n",
       "      <td>0.00000</td>\n",
       "    </tr>\n",
       "    <tr>\n",
       "      <td>50%</td>\n",
       "      <td>416001.000000</td>\n",
       "      <td>422005.500000</td>\n",
       "      <td>3.000000</td>\n",
       "      <td>1.000000</td>\n",
       "      <td>0.000000</td>\n",
       "      <td>1.021780e+05</td>\n",
       "      <td>5.000000</td>\n",
       "      <td>1.017140e+05</td>\n",
       "      <td>5.000000</td>\n",
       "      <td>0.00000</td>\n",
       "    </tr>\n",
       "    <tr>\n",
       "      <td>75%</td>\n",
       "      <td>695014.000000</td>\n",
       "      <td>695017.000000</td>\n",
       "      <td>4.000000</td>\n",
       "      <td>3.000000</td>\n",
       "      <td>1.000000</td>\n",
       "      <td>2.471165e+05</td>\n",
       "      <td>11.000000</td>\n",
       "      <td>2.464612e+05</td>\n",
       "      <td>11.000000</td>\n",
       "      <td>1.00000</td>\n",
       "    </tr>\n",
       "    <tr>\n",
       "      <td>max</td>\n",
       "      <td>851101.000000</td>\n",
       "      <td>995657.000000</td>\n",
       "      <td>10.000000</td>\n",
       "      <td>22.000000</td>\n",
       "      <td>9.000000</td>\n",
       "      <td>3.578265e+06</td>\n",
       "      <td>101.000000</td>\n",
       "      <td>3.578265e+06</td>\n",
       "      <td>101.000000</td>\n",
       "      <td>1.00000</td>\n",
       "    </tr>\n",
       "  </tbody>\n",
       "</table>\n",
       "</div>"
      ],
      "text/plain": [
       "          Office_PIN  Applicant_City_PIN  Manager_Grade  \\\n",
       "count    9527.000000         9430.000000    8844.000000   \n",
       "mean   452894.372205       456784.547296       3.264134   \n",
       "std    235690.618252       239291.081207       1.137449   \n",
       "min    110005.000000       110001.000000       1.000000   \n",
       "25%    226001.000000       226020.000000       2.000000   \n",
       "50%    416001.000000       422005.500000       3.000000   \n",
       "75%    695014.000000       695017.000000       4.000000   \n",
       "max    851101.000000       995657.000000      10.000000   \n",
       "\n",
       "       Manager_Num_Application  Manager_Num_Coded  Manager_Business  \\\n",
       "count              8844.000000        8844.000000      8.844000e+03   \n",
       "mean                  1.939733           0.758933      1.843710e+05   \n",
       "std                   2.150529           1.188644      2.747163e+05   \n",
       "min                   0.000000           0.000000     -2.652890e+05   \n",
       "25%                   0.000000           0.000000      0.000000e+00   \n",
       "50%                   1.000000           0.000000      1.021780e+05   \n",
       "75%                   3.000000           1.000000      2.471165e+05   \n",
       "max                  22.000000           9.000000      3.578265e+06   \n",
       "\n",
       "       Manager_Num_Products  Manager_Business2  Manager_Num_Products2  \\\n",
       "count           8844.000000       8.844000e+03            8844.000000   \n",
       "mean               7.152307       1.829263e+05               7.131275   \n",
       "std                8.439351       2.718021e+05               8.423597   \n",
       "min                0.000000      -2.652890e+05               0.000000   \n",
       "25%                0.000000       0.000000e+00               0.000000   \n",
       "50%                5.000000       1.017140e+05               5.000000   \n",
       "75%               11.000000       2.464612e+05              11.000000   \n",
       "max              101.000000       3.578265e+06             101.000000   \n",
       "\n",
       "       Business_Sourced  \n",
       "count        9527.00000  \n",
       "mean            0.34292  \n",
       "std             0.47471  \n",
       "min             0.00000  \n",
       "25%             0.00000  \n",
       "50%             0.00000  \n",
       "75%             1.00000  \n",
       "max             1.00000  "
      ]
     },
     "execution_count": 99,
     "metadata": {},
     "output_type": "execute_result"
    }
   ],
   "source": [
    "dftrain.describe()"
   ]
  },
  {
   "cell_type": "code",
   "execution_count": 100,
   "metadata": {},
   "outputs": [
    {
     "data": {
      "text/html": [
       "<div>\n",
       "<style scoped>\n",
       "    .dataframe tbody tr th:only-of-type {\n",
       "        vertical-align: middle;\n",
       "    }\n",
       "\n",
       "    .dataframe tbody tr th {\n",
       "        vertical-align: top;\n",
       "    }\n",
       "\n",
       "    .dataframe thead th {\n",
       "        text-align: right;\n",
       "    }\n",
       "</style>\n",
       "<table border=\"1\" class=\"dataframe\">\n",
       "  <thead>\n",
       "    <tr style=\"text-align: right;\">\n",
       "      <th></th>\n",
       "      <th>Office_PIN</th>\n",
       "      <th>Applicant_City_PIN</th>\n",
       "      <th>Manager_Grade</th>\n",
       "      <th>Manager_Num_Application</th>\n",
       "      <th>Manager_Num_Coded</th>\n",
       "      <th>Manager_Business</th>\n",
       "      <th>Manager_Num_Products</th>\n",
       "      <th>Manager_Business2</th>\n",
       "      <th>Manager_Num_Products2</th>\n",
       "    </tr>\n",
       "  </thead>\n",
       "  <tbody>\n",
       "    <tr>\n",
       "      <td>count</td>\n",
       "      <td>5045.000000</td>\n",
       "      <td>5011.000000</td>\n",
       "      <td>4221.000000</td>\n",
       "      <td>4221.000000</td>\n",
       "      <td>4221.000000</td>\n",
       "      <td>4.221000e+03</td>\n",
       "      <td>4221.000000</td>\n",
       "      <td>4.221000e+03</td>\n",
       "      <td>4221.000000</td>\n",
       "    </tr>\n",
       "    <tr>\n",
       "      <td>mean</td>\n",
       "      <td>431478.138751</td>\n",
       "      <td>433049.851527</td>\n",
       "      <td>3.352760</td>\n",
       "      <td>2.521204</td>\n",
       "      <td>1.104951</td>\n",
       "      <td>1.115425e+05</td>\n",
       "      <td>3.864250</td>\n",
       "      <td>9.895073e+04</td>\n",
       "      <td>3.495143</td>\n",
       "    </tr>\n",
       "    <tr>\n",
       "      <td>std</td>\n",
       "      <td>230425.779147</td>\n",
       "      <td>231655.574011</td>\n",
       "      <td>0.994504</td>\n",
       "      <td>2.491566</td>\n",
       "      <td>1.473985</td>\n",
       "      <td>1.640698e+05</td>\n",
       "      <td>4.688678</td>\n",
       "      <td>1.469193e+05</td>\n",
       "      <td>4.241165</td>\n",
       "    </tr>\n",
       "    <tr>\n",
       "      <td>min</td>\n",
       "      <td>110005.000000</td>\n",
       "      <td>110001.000000</td>\n",
       "      <td>2.000000</td>\n",
       "      <td>0.000000</td>\n",
       "      <td>0.000000</td>\n",
       "      <td>-3.196900e+04</td>\n",
       "      <td>0.000000</td>\n",
       "      <td>-3.196900e+04</td>\n",
       "      <td>0.000000</td>\n",
       "    </tr>\n",
       "    <tr>\n",
       "      <td>25%</td>\n",
       "      <td>221010.000000</td>\n",
       "      <td>224141.000000</td>\n",
       "      <td>3.000000</td>\n",
       "      <td>0.000000</td>\n",
       "      <td>0.000000</td>\n",
       "      <td>0.000000e+00</td>\n",
       "      <td>0.000000</td>\n",
       "      <td>0.000000e+00</td>\n",
       "      <td>0.000000</td>\n",
       "    </tr>\n",
       "    <tr>\n",
       "      <td>50%</td>\n",
       "      <td>400705.000000</td>\n",
       "      <td>411005.000000</td>\n",
       "      <td>3.000000</td>\n",
       "      <td>2.000000</td>\n",
       "      <td>1.000000</td>\n",
       "      <td>5.002600e+04</td>\n",
       "      <td>2.000000</td>\n",
       "      <td>4.653700e+04</td>\n",
       "      <td>2.000000</td>\n",
       "    </tr>\n",
       "    <tr>\n",
       "      <td>75%</td>\n",
       "      <td>641018.000000</td>\n",
       "      <td>641002.000000</td>\n",
       "      <td>4.000000</td>\n",
       "      <td>4.000000</td>\n",
       "      <td>2.000000</td>\n",
       "      <td>1.757620e+05</td>\n",
       "      <td>7.000000</td>\n",
       "      <td>1.537820e+05</td>\n",
       "      <td>6.000000</td>\n",
       "    </tr>\n",
       "    <tr>\n",
       "      <td>max</td>\n",
       "      <td>851101.000000</td>\n",
       "      <td>884112.000000</td>\n",
       "      <td>8.000000</td>\n",
       "      <td>17.000000</td>\n",
       "      <td>10.000000</td>\n",
       "      <td>2.196480e+06</td>\n",
       "      <td>31.000000</td>\n",
       "      <td>2.196480e+06</td>\n",
       "      <td>30.000000</td>\n",
       "    </tr>\n",
       "  </tbody>\n",
       "</table>\n",
       "</div>"
      ],
      "text/plain": [
       "          Office_PIN  Applicant_City_PIN  Manager_Grade  \\\n",
       "count    5045.000000         5011.000000    4221.000000   \n",
       "mean   431478.138751       433049.851527       3.352760   \n",
       "std    230425.779147       231655.574011       0.994504   \n",
       "min    110005.000000       110001.000000       2.000000   \n",
       "25%    221010.000000       224141.000000       3.000000   \n",
       "50%    400705.000000       411005.000000       3.000000   \n",
       "75%    641018.000000       641002.000000       4.000000   \n",
       "max    851101.000000       884112.000000       8.000000   \n",
       "\n",
       "       Manager_Num_Application  Manager_Num_Coded  Manager_Business  \\\n",
       "count              4221.000000        4221.000000      4.221000e+03   \n",
       "mean                  2.521204           1.104951      1.115425e+05   \n",
       "std                   2.491566           1.473985      1.640698e+05   \n",
       "min                   0.000000           0.000000     -3.196900e+04   \n",
       "25%                   0.000000           0.000000      0.000000e+00   \n",
       "50%                   2.000000           1.000000      5.002600e+04   \n",
       "75%                   4.000000           2.000000      1.757620e+05   \n",
       "max                  17.000000          10.000000      2.196480e+06   \n",
       "\n",
       "       Manager_Num_Products  Manager_Business2  Manager_Num_Products2  \n",
       "count           4221.000000       4.221000e+03            4221.000000  \n",
       "mean               3.864250       9.895073e+04               3.495143  \n",
       "std                4.688678       1.469193e+05               4.241165  \n",
       "min                0.000000      -3.196900e+04               0.000000  \n",
       "25%                0.000000       0.000000e+00               0.000000  \n",
       "50%                2.000000       4.653700e+04               2.000000  \n",
       "75%                7.000000       1.537820e+05               6.000000  \n",
       "max               31.000000       2.196480e+06              30.000000  "
      ]
     },
     "execution_count": 100,
     "metadata": {},
     "output_type": "execute_result"
    }
   ],
   "source": [
    "dftest.describe()"
   ]
  },
  {
   "cell_type": "markdown",
   "metadata": {},
   "source": [
    "Combine the train and test data"
   ]
  },
  {
   "cell_type": "code",
   "execution_count": 101,
   "metadata": {},
   "outputs": [],
   "source": [
    "train_test_data = [dftrain, dftest]"
   ]
  },
  {
   "cell_type": "markdown",
   "metadata": {},
   "source": [
    "### Data Cleansing and Feature Engineering"
   ]
  },
  {
   "cell_type": "code",
   "execution_count": 102,
   "metadata": {},
   "outputs": [],
   "source": [
    "for dataset in train_test_data:\n",
    "        dataset['Application_Receipt_Date'] = pd.to_datetime(dataset['Application_Receipt_Date']).dt.strftime(f\"%d/%m/%Y\")\n",
    "        dataset['Applicant_BirthDate'] = pd.to_datetime(dataset['Applicant_BirthDate']).dt.strftime(f\"%d/%m/%Y\")\n",
    "        dataset['Manager_DoB'] = pd.to_datetime(dataset['Manager_DoB']).dt.strftime(f\"%d/%m/%Y\")            \n",
    "       \n",
    "        \n",
    "#         dftrain.to_csv(\"input/train_tofill.csv\", index=False)\n",
    "#         dftest.to_csv(\"input/test_tofill.csv\", index=False)"
   ]
  },
  {
   "cell_type": "markdown",
   "metadata": {},
   "source": [
    "### Data Imputation"
   ]
  },
  {
   "cell_type": "markdown",
   "metadata": {},
   "source": [
    "#### Fill NA Technique"
   ]
  },
  {
   "cell_type": "code",
   "execution_count": 103,
   "metadata": {},
   "outputs": [],
   "source": [
    "# dftrain.fillna(\"-9999999\", inplace=True)\n",
    "# dftest.fillna(\"-9999999\", inplace=True)\n",
    "# dftrain.to_csv(f\"Data/train_fillna_IDSC.csv\", index=False)\n",
    "# dftest.to_csv(f\"Data/test_fillna_IDSC.csv\", index=False)"
   ]
  },
  {
   "cell_type": "markdown",
   "metadata": {},
   "source": [
    "#### Mean / Median Technique"
   ]
  },
  {
   "cell_type": "code",
   "execution_count": 104,
   "metadata": {},
   "outputs": [],
   "source": [
    "numeric_cols = ['Manager_Num_Application','Manager_Num_Coded','Manager_Business','Manager_Num_Products','Manager_Business2','Manager_Num_Products2']"
   ]
  },
  {
   "cell_type": "code",
   "execution_count": 105,
   "metadata": {},
   "outputs": [],
   "source": [
    "for df in train_test_data:\n",
    "    df['Manager_Num_Application'].fillna(df.Manager_Num_Application.mean(), inplace=True)\n",
    "    df['Manager_Num_Coded'].fillna(df.Manager_Num_Coded.mean(), inplace=True)\n",
    "    df['Manager_Business'].fillna(df.Manager_Business.mean(), inplace=True)\n",
    "    df['Manager_Num_Products'].fillna(df.Manager_Num_Products.mean(), inplace=True)\n",
    "    df['Manager_Business2'].fillna(df.Manager_Business2.mean(), inplace=True)\n",
    "    df['Manager_Num_Products2'].fillna(df.Manager_Num_Products2.mean(), inplace=True)  "
   ]
  },
  {
   "cell_type": "code",
   "execution_count": 106,
   "metadata": {},
   "outputs": [],
   "source": [
    "# for df in train_test_data:\n",
    "#     df['Office_PIN'].fillna(df.Office_PIN.mode(), inplace=True)\n",
    "#     df['Application_Receipt_Date'].fillna(df.Application_Receipt_Date.mode(), inplace=True)\n",
    "#     df['Applicant_City_PIN'].fillna(df.Applicant_City_PIN.mode(), inplace=True)\n",
    "#     df['Applicant_Gender'].fillna(df.Applicant_Gender.mode(), inplace=True)\n",
    "#     df['Applicant_BirthDate'].fillna(df.Applicant_BirthDate.mode(), inplace=True)\n",
    "#     df['Applicant_Marital_Status'].fillna(df.Applicant_Marital_Status.mode(), inplace=True)\n",
    "#     df['Applicant_Occupation'].fillna(df.Applicant_Occupation.mode(), inplace=True)\n",
    "#     df['Applicant_Qualification'].fillna(df.Applicant_Qualification.mode(), inplace=True)\n",
    "#     df['Manager_DOJ'].fillna(df.Manager_DOJ.mode(), inplace=True)\n",
    "#     df['Manager_Joining_Designation'].fillna(df.Manager_Joining_Designation.mode(), inplace=True)\n",
    "#     df['Manager_Current_Designation'].fillna(df.Manager_Current_Designation.mode(), inplace=True)\n",
    "#     df['Manager_Grade'].fillna(df.Manager_Grade.mode(), inplace=True)\n",
    "#     df['Manager_Status'].fillna(df.Manager_Status.mode(), inplace=True)\n",
    "#     df['Manager_Gender'].fillna(df.Manager_Gender.mode(), inplace=True)\n",
    "#     df['Manager_DoB'].fillna(df.Manager_DoB.mode(), inplace=True)"
   ]
  },
  {
   "cell_type": "code",
   "execution_count": 107,
   "metadata": {},
   "outputs": [],
   "source": [
    "for dataset in train_test_data:\n",
    "    dataset['App_Year'] = pd.DatetimeIndex(dataset['Application_Receipt_Date']).year\n",
    "    dataset['App_Month'] = pd.DatetimeIndex(dataset['Application_Receipt_Date']).month\n",
    "    dataset[\"IsApplicantFemale?\"] = np.where(dataset['Applicant_Gender']=='F', 1, 0)\n",
    "    dataset[\"IsManagerFemale?\"] = np.where(dataset['Manager_Gender']=='F', 1, 0)\n",
    "    dataset['Manager_Success_Rate'] = np.where((dataset['Manager_Num_Application'].isnull() | dataset['Manager_Num_Application']==0),\n",
    "                                        np.NaN,\n",
    "                                        (dataset.Manager_Num_Coded/dataset.Manager_Num_Application)*100)\n",
    "    dataset['Applicant_Age'] = pd.DatetimeIndex(dataset['Application_Receipt_Date']).year - pd.DatetimeIndex(dataset['Applicant_BirthDate']).year\n",
    "    dataset['Manager_Age'] = pd.DatetimeIndex(dataset['Application_Receipt_Date']).year - pd.DatetimeIndex(dataset['Manager_DoB']).year"
   ]
  },
  {
   "cell_type": "code",
   "execution_count": 108,
   "metadata": {},
   "outputs": [],
   "source": [
    "dftrain.fillna(\"-9999999\", inplace=True)\n",
    "dftest.fillna(\"-9999999\", inplace=True)\n",
    "# dftrain.to_csv(f\"Data/train_fillna_IDSC.csv\", index=False)\n",
    "# dftest.to_csv(f\"Data/test_fillna_IDSC.csv\", index=False)"
   ]
  },
  {
   "cell_type": "code",
   "execution_count": 110,
   "metadata": {},
   "outputs": [
    {
     "data": {
      "text/plain": [
       "ID                             0\n",
       "Office_PIN                     0\n",
       "Application_Receipt_Date       0\n",
       "Applicant_City_PIN             0\n",
       "Applicant_Gender               0\n",
       "Applicant_BirthDate            0\n",
       "Applicant_Marital_Status       0\n",
       "Applicant_Occupation           0\n",
       "Applicant_Qualification        0\n",
       "Manager_DOJ                    0\n",
       "Manager_Joining_Designation    0\n",
       "Manager_Current_Designation    0\n",
       "Manager_Grade                  0\n",
       "Manager_Status                 0\n",
       "Manager_Gender                 0\n",
       "Manager_DoB                    0\n",
       "Manager_Num_Application        0\n",
       "Manager_Num_Coded              0\n",
       "Manager_Business               0\n",
       "Manager_Num_Products           0\n",
       "Manager_Business2              0\n",
       "Manager_Num_Products2          0\n",
       "Business_Sourced               0\n",
       "App_Year                       0\n",
       "App_Month                      0\n",
       "IsApplicantFemale?             0\n",
       "IsManagerFemale?               0\n",
       "Manager_Success_Rate           0\n",
       "Applicant_Age                  0\n",
       "Manager_Age                    0\n",
       "dtype: int64"
      ]
     },
     "execution_count": 110,
     "metadata": {},
     "output_type": "execute_result"
    }
   ],
   "source": [
    "dftrain.isnull().sum()"
   ]
  },
  {
   "cell_type": "markdown",
   "metadata": {},
   "source": [
    "### Split the data into K folds"
   ]
  },
  {
   "cell_type": "code",
   "execution_count": 111,
   "metadata": {},
   "outputs": [
    {
     "name": "stdout",
     "output_type": "stream",
     "text": [
      "7621 1906\n",
      "7621 1906\n",
      "7622 1905\n",
      "7622 1905\n",
      "7622 1905\n"
     ]
    }
   ],
   "source": [
    "df = pd.read_csv(f\"Data/train_fillna_IDSC.csv\")\n",
    "\n",
    "df[\"kfold\"]=-1\n",
    "\n",
    "df = df.sample(frac=1).reset_index(drop=True)\n",
    "\n",
    "kf = model_selection.StratifiedKFold(n_splits=5, shuffle=False, random_state=None)\n",
    "\n",
    "for fold, (train_idx, val_idx) in enumerate(kf.split(X=df, y=df.Business_Sourced.values)):\n",
    "    print(len(train_idx), len(val_idx))\n",
    "    df.loc[val_idx, 'kfold'] = fold\n",
    "\n",
    "df.to_csv(f\"Data/train_IDSC_folds.csv\", index=False)"
   ]
  },
  {
   "cell_type": "markdown",
   "metadata": {},
   "source": [
    "### Modelling and Evaluation"
   ]
  },
  {
   "cell_type": "code",
   "execution_count": 112,
   "metadata": {},
   "outputs": [
    {
     "name": "stdout",
     "output_type": "stream",
     "text": [
      "0.6634217056990162\n",
      "0.6241744096296079\n",
      "0.6189043930935618\n",
      "0.6313965037257387\n",
      "0.6197288014521329\n"
     ]
    }
   ],
   "source": [
    "df = pd.read_csv(f\"Data/train_IDSC_folds.csv\")\n",
    "df_test = pd.read_csv(f\"Data/test_fillna_IDSC.csv\")\n",
    "    \n",
    "MODEL = 'XGBoost'\n",
    "FOLD_MAPPING = { \\\n",
    "    0: [1,2,3,4],\n",
    "    1: [0,2,3,4],\n",
    "    2: [0,1,3,4],\n",
    "    3: [0,1,2,4],\n",
    "    4: [0,1,2,3]\n",
    "}\n",
    "\n",
    "# FOLD_MAPPING = { \\\n",
    "#     0: [1,2,3,4,5,6,7,8,9],\n",
    "#     1: [0,2,3,4,5,6,7,8,9],\n",
    "#     2: [0,1,3,4,5,6,7,8,9],\n",
    "#     3: [0,1,2,4,5,6,7,8,9],\n",
    "#     4: [0,1,2,3,5,6,7,8,9],\n",
    "#     5: [0,1,2,3,4,6,7,8,9],\n",
    "#     6: [0,1,2,3,4,5,7,8,9],\n",
    "#     7: [0,1,2,3,4,5,6,8,9],\n",
    "#     8: [0,1,2,3,4,5,6,7,9],\n",
    "#     9: [0,1,2,3,4,5,6,7,8]\n",
    "# }\n",
    "\n",
    "for FOLD in range(5):\n",
    "    train_df = df[df.kfold.isin(FOLD_MAPPING.get(int(FOLD)))].reset_index(drop=True)\n",
    "    valid_df = df[df.kfold==FOLD].reset_index(drop=True)\n",
    "\n",
    "    ytrain = train_df.Business_Sourced.values\n",
    "    yvalid = valid_df.Business_Sourced.values\n",
    "\n",
    "    train_df = train_df.drop([\"ID\",\"Business_Sourced\",\"kfold\"], axis=1)\n",
    "    valid_df = valid_df.drop([\"ID\",\"Business_Sourced\",\"kfold\"], axis=1)\n",
    "\n",
    "    valid_df = valid_df[train_df.columns]\n",
    "\n",
    "    label_encoders = {}\n",
    "\n",
    "    for c in train_df.columns:\n",
    "        lbl = preprocessing.LabelEncoder()\n",
    "        lbl.fit(train_df[c].values.tolist() + valid_df[c].values.tolist() + df_test[c].values.tolist())\n",
    "        train_df.loc[:,c] = lbl.transform(train_df[c].values.tolist())\n",
    "        valid_df.loc[:,c] = lbl.transform(valid_df[c].values.tolist())\n",
    "        label_encoders[c] = lbl\n",
    "\n",
    "\n",
    "    #data is ready to train\n",
    "    clf = XGBClassifier(max_depth=3,learning_rate=0.1,n_estimators=500,verbosity=1,objective='binary:logistic',booster='gbtree',n_jobs=1)\n",
    "    clf.fit(train_df, ytrain)\n",
    "    preds = clf.predict_proba(valid_df)[:,1]\n",
    "    print(metrics.roc_auc_score(yvalid, preds))\n",
    "\n",
    "    joblib.dump(label_encoders, f\"models/{MODEL}_{FOLD}_label_encoder.pkl\")\n",
    "    joblib.dump(clf, f\"models/{MODEL}_{FOLD}.pkl\")\n",
    "    joblib.dump(train_df.columns, f\"models/{MODEL}_{FOLD}_columns.pkl\")"
   ]
  },
  {
   "cell_type": "markdown",
   "metadata": {},
   "source": [
    "### Predicting"
   ]
  },
  {
   "cell_type": "code",
   "execution_count": 113,
   "metadata": {},
   "outputs": [],
   "source": [
    "def predict():\n",
    "    df = pd.read_csv(f\"Data/test_fillna_IDSC.csv\")\n",
    "    \n",
    "    test_idx = df[\"ID\"].values\n",
    "    predictions = None\n",
    "     \n",
    "    for FOLD in range(5):\n",
    "        print(FOLD)\n",
    "        df = pd.read_csv(f\"Data/test_fillna_IDSC.csv\")\n",
    "        # cols = [c for c in df_TEST.columns if c not in [\"id\", \"target\"]]\n",
    "    \n",
    "        # for c in cols:\n",
    "        #     df_TEST.loc[:, c] = df_TEST.loc[:, c].fillna(\"-9999999\")\n",
    "\n",
    "            \n",
    "        # df = df_TEST.copy(deep=True)\n",
    "\n",
    "        \n",
    "        encoders = joblib.load(os.path.join(\"models\", f\"{MODEL}_{FOLD}_label_encoder.pkl\"))\n",
    "        cols = joblib.load(os.path.join(\"models\", f\"{MODEL}_{FOLD}_columns.pkl\"))\n",
    "\n",
    "        for c in encoders:\n",
    "            #print(c)\n",
    "            lbl = encoders[c]\n",
    "            df.loc[:,c] = lbl.transform(df[c].values.tolist())\n",
    "            \n",
    "\n",
    "        #data is ready to train\n",
    "        clf = joblib.load(os.path.join(\"models\", f\"{MODEL}_{FOLD}.pkl\"))\n",
    "        \n",
    "        df = df[cols]\n",
    "        preds = clf.predict_proba(df)[:,1]\n",
    "        \n",
    "        if FOLD==0:\n",
    "            predictions = preds\n",
    "        else:\n",
    "            predictions += preds\n",
    "\n",
    "    predictions /= 5\n",
    "\n",
    "    sub = pd.DataFrame(np.column_stack((test_idx, predictions)), columns=[\"ID\", \"Business_Sourced\"])\n",
    "    return sub"
   ]
  },
  {
   "cell_type": "markdown",
   "metadata": {},
   "source": [
    "### Prepare submission file"
   ]
  },
  {
   "cell_type": "code",
   "execution_count": 114,
   "metadata": {},
   "outputs": [
    {
     "name": "stdout",
     "output_type": "stream",
     "text": [
      "0\n",
      "1\n",
      "2\n",
      "3\n",
      "4\n"
     ]
    }
   ],
   "source": [
    "submission = predict()\n",
    "submission.to_csv(f\"models/{MODEL}.csv\", index=False)"
   ]
  },
  {
   "cell_type": "code",
   "execution_count": null,
   "metadata": {},
   "outputs": [],
   "source": []
  }
 ],
 "metadata": {
  "kernelspec": {
   "display_name": "Python 3",
   "language": "python",
   "name": "python3"
  },
  "language_info": {
   "codemirror_mode": {
    "name": "ipython",
    "version": 3
   },
   "file_extension": ".py",
   "mimetype": "text/x-python",
   "name": "python",
   "nbconvert_exporter": "python",
   "pygments_lexer": "ipython3",
   "version": "3.7.4"
  }
 },
 "nbformat": 4,
 "nbformat_minor": 4
}
